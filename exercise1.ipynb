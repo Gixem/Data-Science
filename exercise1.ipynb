{
 "cells": [
  {
   "cell_type": "markdown",
   "id": "74e02642",
   "metadata": {},
   "source": [
    "## Exercise 1"
   ]
  },
  {
   "cell_type": "markdown",
   "id": "5fb85c5e",
   "metadata": {},
   "source": [
    "#### Question 1:\n",
    "Write a function that receives a list as parameter and return how many elements it has; if it doesn't have any element return an error."
   ]
  },
  {
   "cell_type": "markdown",
   "id": "e0bc596b",
   "metadata": {},
   "source": [
    "#### Answer 1:"
   ]
  },
  {
   "cell_type": "code",
   "execution_count": 21,
   "id": "bd94655f",
   "metadata": {},
   "outputs": [],
   "source": [
    "def counting_element (elements : list) -> int:\n",
    "    #elements is the list name\n",
    "\n",
    "    if not elements: # if list is empty this will be true\n",
    "        raise ValueError(f\"Expected list, got {type(collection).__name__}\")\n",
    "    if len(elements)==0:\n",
    "        raise ValueError(f\"List is empty\")\n",
    "    \n",
    "    return len(elements)\n"
   ]
  },
  {
   "cell_type": "code",
   "execution_count": 22,
   "id": "57709b24",
   "metadata": {},
   "outputs": [
    {
     "data": {
      "text/plain": [
       "3"
      ]
     },
     "execution_count": 22,
     "metadata": {},
     "output_type": "execute_result"
    }
   ],
   "source": [
    "counting_element([1, 2, ['a', 'b']])"
   ]
  },
  {
   "cell_type": "code",
   "execution_count": 23,
   "id": "11853a14",
   "metadata": {},
   "outputs": [
    {
     "data": {
      "text/plain": [
       "5"
      ]
     },
     "execution_count": 23,
     "metadata": {},
     "output_type": "execute_result"
    }
   ],
   "source": [
    "counting_element([2,6,8,2,19])"
   ]
  },
  {
   "cell_type": "markdown",
   "id": "50eb6779",
   "metadata": {},
   "source": [
    "#### Question 2:\n",
    "Write a function that builds a character‑count dict from a string, with an option to ignore case."
   ]
  },
  {
   "cell_type": "markdown",
   "id": "862eb2c2",
   "metadata": {},
   "source": [
    "#### Answer 2:"
   ]
  },
  {
   "cell_type": "code",
   "execution_count": 24,
   "id": "efd8d341",
   "metadata": {},
   "outputs": [],
   "source": [
    "import collections\n",
    "\n",
    "def char_count(text: str, ignore_case: bool = True) -> dict:\n",
    "\n",
    "    if not isinstance(text, str):\n",
    "        raise TypeError(f\"Expected str, got {type(text).__name__}\")\n",
    "    if ignore_case:\n",
    "        text = text.lower()\n",
    "    return dict(collections.Counter(text))"
   ]
  },
  {
   "cell_type": "code",
   "execution_count": 25,
   "id": "a92918db",
   "metadata": {},
   "outputs": [
    {
     "data": {
      "text/plain": [
       "{'a': 3, 'u': 1, 's': 1, 't': 1, 'r': 1, 'l': 1, 'i': 1}"
      ]
     },
     "execution_count": 25,
     "metadata": {},
     "output_type": "execute_result"
    }
   ],
   "source": [
    "char_count(\"Australia\", ignore_case=True)"
   ]
  },
  {
   "cell_type": "markdown",
   "id": "a2ae4501",
   "metadata": {},
   "source": [
    "#### Question 3:\n",
    "Write a function that filters a list of numbers by a threshold and returns their squares"
   ]
  },
  {
   "cell_type": "markdown",
   "id": "25a2ba90",
   "metadata": {},
   "source": [
    "#### Answer 3:"
   ]
  },
  {
   "cell_type": "code",
   "execution_count": 26,
   "id": "723403ef",
   "metadata": {},
   "outputs": [],
   "source": [
    "def filterSquare(numbers: list, threshold: float) -> list:\n",
    "\n",
    "    if not isinstance(threshold, (int, float)):\n",
    "        raise TypeError(f\"Expected numeric threshold, got {type(threshold).__name__}\")\n",
    "    \n",
    "    if not isinstance(numbers, list):\n",
    "        raise TypeError(f\"Expected list for numbers, got {type(numbers).__name__}\")\n",
    "    \n",
    "    if not all(isinstance(x, (int, float)) for x in numbers):\n",
    "        raise TypeError(\"All items in numbers must be int or float\")\n",
    "\n",
    "    return [x**2 for x in numbers if x > threshold]"
   ]
  },
  {
   "cell_type": "code",
   "execution_count": 27,
   "id": "5406cfdb",
   "metadata": {},
   "outputs": [
    {
     "name": "stdout",
     "output_type": "stream",
     "text": [
      "[625, 100, 225, 400]\n"
     ]
    }
   ],
   "source": [
    "print(filterSquare([25, 10, 15, 20], threshold=4))"
   ]
  },
  {
   "cell_type": "code",
   "execution_count": 28,
   "id": "8d5a7483",
   "metadata": {},
   "outputs": [
    {
     "name": "stdout",
     "output_type": "stream",
     "text": [
      "[4]\n"
     ]
    }
   ],
   "source": [
    "print(filterSquare([2], threshold=0))"
   ]
  },
  {
   "cell_type": "code",
   "execution_count": 29,
   "id": "52198d66",
   "metadata": {},
   "outputs": [],
   "source": [
    "my_list = ['one', 'two', 'three', 'four', 'five']"
   ]
  },
  {
   "cell_type": "code",
   "execution_count": 30,
   "id": "336f3090",
   "metadata": {},
   "outputs": [
    {
     "name": "stdout",
     "output_type": "stream",
     "text": [
      "one\n",
      "four\n",
      "five\n"
     ]
    }
   ],
   "source": [
    "for number in my_list:\n",
    "    if number == 'two':\n",
    "        my_list.remove('two')\n",
    "    else:\n",
    "        print(number)"
   ]
  },
  {
   "cell_type": "markdown",
   "id": "cada33d5",
   "metadata": {},
   "source": [
    "- to not modify lists in loops"
   ]
  },
  {
   "cell_type": "code",
   "execution_count": 31,
   "id": "6b05a7df",
   "metadata": {},
   "outputs": [],
   "source": [
    "new_list = []"
   ]
  },
  {
   "cell_type": "code",
   "execution_count": 32,
   "id": "174ec3a1",
   "metadata": {},
   "outputs": [
    {
     "name": "stdout",
     "output_type": "stream",
     "text": [
      "one\n",
      "three\n",
      "four\n",
      "five\n"
     ]
    }
   ],
   "source": [
    "for number in my_list:\n",
    "    if number == 'two':\n",
    "        continue\n",
    "    else:\n",
    "        print(number)\n",
    "        new_list.append(number)"
   ]
  },
  {
   "cell_type": "markdown",
   "id": "3a2574ed",
   "metadata": {},
   "source": [
    "- enumarate(items, start=1)"
   ]
  },
  {
   "cell_type": "code",
   "execution_count": 33,
   "id": "bfe2341b",
   "metadata": {},
   "outputs": [],
   "source": [
    "a = [1, 2, 3, 4]\n",
    "b = a"
   ]
  },
  {
   "cell_type": "code",
   "execution_count": 34,
   "id": "7b8fdf33",
   "metadata": {},
   "outputs": [
    {
     "name": "stdout",
     "output_type": "stream",
     "text": [
      "1910269571328\n",
      "1910269571328\n"
     ]
    }
   ],
   "source": [
    "print(id(a))\n",
    "print(id(b))"
   ]
  },
  {
   "cell_type": "code",
   "execution_count": 35,
   "id": "9175c138",
   "metadata": {},
   "outputs": [],
   "source": [
    "a.append(10)\n",
    "b.append(11)"
   ]
  },
  {
   "cell_type": "code",
   "execution_count": 36,
   "id": "975f2229",
   "metadata": {},
   "outputs": [
    {
     "name": "stdout",
     "output_type": "stream",
     "text": [
      "a=[1, 2, 3, 4, 10, 11]\n",
      "b=[1, 2, 3, 4, 10, 11]\n"
     ]
    }
   ],
   "source": [
    "print(f\"{a=}\")\n",
    "print(f\"{b=}\")"
   ]
  },
  {
   "cell_type": "code",
   "execution_count": 37,
   "id": "994a636d",
   "metadata": {},
   "outputs": [],
   "source": [
    "a = [1, ['a', 'b'], 4]\n",
    "b = a.copy()"
   ]
  },
  {
   "cell_type": "code",
   "execution_count": 38,
   "id": "baa8cea5",
   "metadata": {},
   "outputs": [
    {
     "name": "stdout",
     "output_type": "stream",
     "text": [
      "a=[1, ['a', 'b'], 4]\n",
      "b=[1, ['a', 'b'], 4]\n"
     ]
    }
   ],
   "source": [
    "print(f\"{a=}\")\n",
    "print(f\"{b=}\")"
   ]
  },
  {
   "cell_type": "code",
   "execution_count": 39,
   "id": "47126635",
   "metadata": {},
   "outputs": [],
   "source": [
    "b.append(10)"
   ]
  },
  {
   "cell_type": "code",
   "execution_count": 40,
   "id": "534e4234",
   "metadata": {},
   "outputs": [
    {
     "name": "stdout",
     "output_type": "stream",
     "text": [
      "a=[1, ['a', 'b'], 4]\n",
      "b=[1, ['a', 'b'], 4, 10]\n"
     ]
    }
   ],
   "source": [
    "print(f\"{a=}\")\n",
    "print(f\"{b=}\")"
   ]
  },
  {
   "cell_type": "code",
   "execution_count": 41,
   "id": "e15bd0c3",
   "metadata": {},
   "outputs": [],
   "source": [
    "b[1][0] = 'c'"
   ]
  },
  {
   "cell_type": "code",
   "execution_count": 42,
   "id": "a8370dbe",
   "metadata": {},
   "outputs": [
    {
     "name": "stdout",
     "output_type": "stream",
     "text": [
      "a=[1, ['c', 'b'], 4]\n",
      "b=[1, ['c', 'b'], 4, 10]\n"
     ]
    }
   ],
   "source": [
    "print(f\"{a=}\")\n",
    "print(f\"{b=}\")"
   ]
  },
  {
   "cell_type": "code",
   "execution_count": 43,
   "id": "db0b25ac",
   "metadata": {},
   "outputs": [],
   "source": [
    "from copy import deepcopy\n",
    "\n",
    "a = [1, ['a', 'b'], 4]\n",
    "b = deepcopy(a)"
   ]
  },
  {
   "cell_type": "code",
   "execution_count": 44,
   "id": "b8df2ed5",
   "metadata": {},
   "outputs": [
    {
     "name": "stdout",
     "output_type": "stream",
     "text": [
      "a=[1, ['a', 'b'], 4]\n",
      "b=[1, ['a', 'b'], 4]\n"
     ]
    }
   ],
   "source": [
    "print(f\"{a=}\")\n",
    "print(f\"{b=}\")"
   ]
  },
  {
   "cell_type": "code",
   "execution_count": 45,
   "id": "7083f7a9",
   "metadata": {},
   "outputs": [],
   "source": [
    "b[1][0] = 'c'"
   ]
  },
  {
   "cell_type": "code",
   "execution_count": 46,
   "id": "cdfc0d07",
   "metadata": {},
   "outputs": [
    {
     "name": "stdout",
     "output_type": "stream",
     "text": [
      "a=[1, ['a', 'b'], 4]\n",
      "b=[1, ['c', 'b'], 4]\n"
     ]
    }
   ],
   "source": [
    "print(f\"{a=}\")\n",
    "print(f\"{b=}\")"
   ]
  }
 ],
 "metadata": {
  "kernelspec": {
   "display_name": "Python 3",
   "language": "python",
   "name": "python3"
  },
  "language_info": {
   "codemirror_mode": {
    "name": "ipython",
    "version": 3
   },
   "file_extension": ".py",
   "mimetype": "text/x-python",
   "name": "python",
   "nbconvert_exporter": "python",
   "pygments_lexer": "ipython3",
   "version": "3.9.1"
  }
 },
 "nbformat": 4,
 "nbformat_minor": 5
}
